{
 "cells": [
  {
   "cell_type": "code",
   "execution_count": 200,
   "metadata": {},
   "outputs": [],
   "source": [
    "import numpy as np\n",
    "import pandas as pd\n",
    "import torch\n",
    "import torch.nn as nn\n",
    "from torch.utils.data import Dataset, random_split, DataLoader\n",
    "import matplotlib.pyplot as plt\n",
    "import scipy\n",
    "import scipy.io\n",
    "from scipy.signal import spectrogram\n",
    "import os\n",
    "import soundfile as sf\n",
    "import librosa\n",
    "import math\n",
    "from librosa.feature import melspectrogram\n",
    "from librosa.display import specshow\n",
    "import cv2\n",
    "from sklearn.metrics import f1_score, recall_score, precision_score, accuracy_score, classification_report"
   ]
  },
  {
   "cell_type": "code",
   "execution_count": 51,
   "metadata": {},
   "outputs": [],
   "source": [
    "# # Prepare Spectrogram Dataset\n",
    "# for data in spect_dataset:\n",
    "#     prevname = data[4].split('.')[0]\n",
    "#     filename = '{}-{}-fold{}-{}.png'.format(data[0], data[2], data[3], prevname)\n",
    "#     spect = melspectrogram(data[1].numpy(), data[2])\n",
    "#     spect_scaled = 255 * (spect - spect.min()) / (spect.max() - spect.min())\n",
    "#     plt.imsave('Spectrograms/'+filename, spect, cmap='gray')"
   ]
  },
  {
   "cell_type": "code",
   "execution_count": 2,
   "metadata": {},
   "outputs": [],
   "source": [
    "# Try with 1D convolution\n",
    "\n",
    "# Get spect_dataset\n",
    "metadata = pd.read_csv('UrbanSound8K/metadata/UrbanSound8k.csv')\n",
    "\n",
    "class_dict = {'siren': 0,\n",
    "             'jackhammer': 1,\n",
    "             'air_conditioner': 2,\n",
    "             'drilling': 3,\n",
    "             'children_playing': 4,\n",
    "             'street_music': 5,\n",
    "             'dog_bark': 6,\n",
    "             'engine_idling': 7,\n",
    "             'gun_shot': 8,\n",
    "             'car_horn': 9}\n",
    "\n",
    "class SoundDataset(Dataset):\n",
    "    def __init__(self, metadata):\n",
    "        self.sample_list = []\n",
    "        \n",
    "        for i in range(1,11):\n",
    "            data_dir = 'fold{}'.format(i)\n",
    "            if (data_dir[0] == '.'):\n",
    "                continue\n",
    "        \n",
    "            for filename in os.listdir('UrbanSound8k/audio/{}'.format(data_dir)):\n",
    "                if filename[0] == '.':\n",
    "                    continue\n",
    "                data, samplerate = librosa.load('UrbanSound8k/audio/{}/{}'.format(data_dir,filename))\n",
    "                label = metadata.loc[metadata['slice_file_name'] == filename, 'class'].item()\n",
    "                if len(data.shape) == 2:\n",
    "                    data = np.mean(data, axis = 1)\n",
    "                if len(data) == 88200:\n",
    "                    self.sample_list.append((class_dict[label], torch.tensor(data),\n",
    "                                             samplerate, i, filename)) #class label, data, samplerate, fold, filename\n",
    "                \n",
    "    \n",
    "    def __len__(self):\n",
    "        return len(self.sample_list)\n",
    "    \n",
    "    def __getitem__(self, idx):\n",
    "        return self.sample_list[idx]"
   ]
  },
  {
   "cell_type": "code",
   "execution_count": 226,
   "metadata": {},
   "outputs": [],
   "source": [
    "# Try with 2D convolution. Import Spectrogram Dataset.\n",
    "\n",
    "# Get spect_dataset\n",
    "class SpectDataset(Dataset):\n",
    "    def __init__(self):\n",
    "        self.sample_list = []\n",
    "        \n",
    "        for filename in os.listdir('Spectrograms'):\n",
    "            label = filename.split('-')[0]\n",
    "            image = plt.imread('Spectrograms/'+filename)[:,:,0]\n",
    "            if int(label) == 8:\n",
    "                continue\n",
    "            elif int(label) == 9:\n",
    "                self.sample_list.append((int(label) - 1, torch.tensor(image), filename)) #class_label, data, filename\n",
    "            else:\n",
    "                self.sample_list.append((int(label), torch.tensor(image), filename)) #class_label, data, filename\n",
    "                \n",
    "    \n",
    "    def __len__(self):\n",
    "        return len(self.sample_list)\n",
    "    \n",
    "    def __getitem__(self, idx):\n",
    "        return self.sample_list[idx]"
   ]
  },
  {
   "cell_type": "code",
   "execution_count": 227,
   "metadata": {},
   "outputs": [],
   "source": [
    "# Load the data (spectrogram)\n",
    "spect_dataset = SpectDataset()"
   ]
  },
  {
   "cell_type": "code",
   "execution_count": 228,
   "metadata": {},
   "outputs": [],
   "source": [
    "# Load the data (audio)\n",
    "#spect_dataset = SoundDataset(metadata)"
   ]
  },
  {
   "cell_type": "code",
   "execution_count": 235,
   "metadata": {},
   "outputs": [],
   "source": [
    "# Split into train, val, test data\n",
    "train_len = int(0.6 * len(spect_dataset))\n",
    "val_len = len(spect_dataset) - train_len\n",
    "trainset, valset = random_split(spect_dataset, [train_len, val_len])\n",
    "\n",
    "val_len = int(0.5 * len(valset))\n",
    "valset, testset = random_split(valset, [val_len, val_len])"
   ]
  },
  {
   "cell_type": "code",
   "execution_count": 236,
   "metadata": {},
   "outputs": [],
   "source": [
    "# Create Neural Network Model\n",
    "class AudioNet(nn.Module):  #1D convolutions\n",
    "    def __init__(self, num_classes):\n",
    "        super(AudioNet, self).__init__()\n",
    "        \n",
    "        self.conv1 = nn.Conv1d(1, 16, kernel_size=23, stride=5, padding=0) #try making kernels larger, fewer layers, less maxp\n",
    "        self.batchnorm1 = nn.BatchNorm1d(16)\n",
    "        self.conv2 = nn.Conv1d(16, 32, kernel_size=7, stride=3, padding=0)\n",
    "        self.batchnorm2 = nn.BatchNorm1d(32)\n",
    "        self.lrelu = nn.LeakyReLU()\n",
    "        self.max2 = nn.MaxPool1d(kernel_size=3)\n",
    "        self.conv3 = nn.Conv1d(32, 64, kernel_size=5, stride=3, padding=0)\n",
    "        self.batchnorm3 = nn.BatchNorm1d(64)\n",
    "        self.drop = nn.Dropout(p=0.5)\n",
    "        self.max3 = nn.MaxPool1d(kernel_size=3)\n",
    "        self.conv4 = nn.Conv1d(64, 64, kernel_size=5, stride=3, padding=0)\n",
    "        self.batchnorm4 = nn.BatchNorm1d(64)\n",
    "        self.conv5 = nn.Conv1d(64, 64, kernel_size=7, stride=3, padding=0)\n",
    "        self.fc1 = nn.Linear(64 * 22, 64)\n",
    "        self.fc2 = nn.Linear(64, num_classes)\n",
    "        \n",
    "    def forward(self, x):\n",
    "        #print(x.shape)\n",
    "        x = self.conv1(x)\n",
    "        x = self.batchnorm1(x)\n",
    "        #print(x.shape)\n",
    "        x = self.conv2(x)\n",
    "        x = self.batchnorm2(x)\n",
    "        x = self.lrelu(x)\n",
    "        #print(x.shape)\n",
    "        x = self.max2(x)\n",
    "        #print(x.shape)\n",
    "        x = self.conv3(x)\n",
    "        x = self.batchnorm3(x)\n",
    "        x = self.drop1(x)\n",
    "        #print(x.shape)\n",
    "        x = self.max3(x)\n",
    "        #print(x.shape)\n",
    "        x = self.conv4(x)\n",
    "        x = self.batchnorm4(x)\n",
    "        #print(x.shape)\n",
    "        x = self.conv5(x)\n",
    "        #print(x.shape)\n",
    "        x = x.view(x.size(0), -1)\n",
    "        x = self.fc1(x)\n",
    "        #print(x.shape)\n",
    "        out = self.fc2(x)\n",
    "        #print(out.shape)\n",
    "        return out\n",
    "    \n",
    "    \n",
    "class AudioNetSpect(nn.Module):  #2D convolutions on spectrograms\n",
    "    def __init__(self, num_classes):\n",
    "        super(AudioNetSpect, self).__init__()\n",
    "        \n",
    "        self.conv1 = nn.Conv2d(1, 16, kernel_size=7, stride=1, padding=0) #try making kernels larger, fewer layers, less maxp\n",
    "        self.batchnorm1 = nn.BatchNorm2d(16)\n",
    "        self.drop1 = nn.Dropout(p=0.5)\n",
    "        self.lrelu1 = nn.LeakyReLU()\n",
    "        self.max1 = nn.MaxPool2d(kernel_size=3)\n",
    "        self.conv2 = nn.Conv2d(16, 32, kernel_size=5, stride=1, padding=0)\n",
    "        self.batchnorm2 = nn.BatchNorm2d(32)\n",
    "        self.drop2 = nn.Dropout(p=0.5)\n",
    "        self.lrelu2 = nn.LeakyReLU()\n",
    "        self.max2 = nn.MaxPool2d(kernel_size=3)\n",
    "        self.conv3 = nn.Conv2d(32, 64, kernel_size=5, stride=1, padding=0)\n",
    "        self.batchnorm3 = nn.BatchNorm2d(64)\n",
    "        self.fc1 = nn.Linear(64 * 8 * 13, 128)\n",
    "        self.fc2 = nn.Linear(128, num_classes)\n",
    "        \n",
    "    def forward(self, x):\n",
    "        #print(x.shape)\n",
    "        x = self.conv1(x)\n",
    "        x = self.batchnorm1(x)\n",
    "        x = self.drop1(x)\n",
    "        x = self.lrelu1(x)\n",
    "        x = self.max1(x)\n",
    "        #print(x.shape)\n",
    "        x = self.conv2(x)\n",
    "        x = self.batchnorm2(x)\n",
    "        x = self.drop2(x)\n",
    "        x = self.lrelu2(x)\n",
    "        #print(x.shape)\n",
    "        x = self.max2(x)\n",
    "        #print(x.shape)\n",
    "        x = self.conv3(x)\n",
    "        x = self.batchnorm3(x)\n",
    "        #print(x.shape)\n",
    "        x = x.view(x.size(0), -1)\n",
    "        #print(x.shape)\n",
    "        x = self.fc1(x)\n",
    "        #print(x.shape)\n",
    "        out = self.fc2(x)\n",
    "        #print(out.shape)\n",
    "        return out"
   ]
  },
  {
   "cell_type": "code",
   "execution_count": 237,
   "metadata": {},
   "outputs": [
    {
     "data": {
      "text/plain": [
       "AudioNetSpect(\n",
       "  (conv1): Conv2d(1, 16, kernel_size=(7, 7), stride=(1, 1))\n",
       "  (batchnorm1): BatchNorm2d(16, eps=1e-05, momentum=0.1, affine=True, track_running_stats=True)\n",
       "  (drop1): Dropout(p=0.5, inplace=False)\n",
       "  (lrelu1): LeakyReLU(negative_slope=0.01)\n",
       "  (max1): MaxPool2d(kernel_size=3, stride=3, padding=0, dilation=1, ceil_mode=False)\n",
       "  (conv2): Conv2d(16, 32, kernel_size=(5, 5), stride=(1, 1))\n",
       "  (batchnorm2): BatchNorm2d(32, eps=1e-05, momentum=0.1, affine=True, track_running_stats=True)\n",
       "  (drop2): Dropout(p=0.5, inplace=False)\n",
       "  (lrelu2): LeakyReLU(negative_slope=0.01)\n",
       "  (max2): MaxPool2d(kernel_size=3, stride=3, padding=0, dilation=1, ceil_mode=False)\n",
       "  (conv3): Conv2d(32, 64, kernel_size=(5, 5), stride=(1, 1))\n",
       "  (batchnorm3): BatchNorm2d(64, eps=1e-05, momentum=0.1, affine=True, track_running_stats=True)\n",
       "  (fc1): Linear(in_features=6656, out_features=128, bias=True)\n",
       "  (fc2): Linear(in_features=128, out_features=10, bias=True)\n",
       ")"
      ]
     },
     "execution_count": 237,
     "metadata": {},
     "output_type": "execute_result"
    }
   ],
   "source": [
    "# Load model\n",
    "model = AudioNetSpect(num_classes=9)\n",
    "model.cuda()"
   ]
  },
  {
   "cell_type": "code",
   "execution_count": 238,
   "metadata": {},
   "outputs": [],
   "source": [
    "# Get loss and optimizer\n",
    "criterion = nn.CrossEntropyLoss()\n",
    "optimizer = torch.optim.Adam(model.parameters())"
   ]
  },
  {
   "cell_type": "code",
   "execution_count": 263,
   "metadata": {},
   "outputs": [],
   "source": [
    "# Create data loaders\n",
    "val_loader = DataLoader(dataset = valset,\n",
    "                      batch_size = 32,\n",
    "                      shuffle = False)\n",
    "\n",
    "train_loader = DataLoader(dataset = trainset,\n",
    "                      batch_size = 32,\n",
    "                      shuffle = True)\n",
    "\n",
    "test_loader = DataLoader(dataset = testset,\n",
    "                      batch_size = 32,\n",
    "                      shuffle = True)\n",
    "\n",
    "data_loader = DataLoader(dataset = spect_dataset,\n",
    "                      batch_size = 32,\n",
    "                      shuffle = True)"
   ]
  },
  {
   "cell_type": "code",
   "execution_count": 240,
   "metadata": {},
   "outputs": [
    {
     "name": "stdout",
     "output_type": "stream",
     "text": [
      "Epoch 1\n",
      "Training Loss: 1.908411359852129\n",
      "Val Loss: 2.018740845763165 \n",
      "\n",
      "Epoch 6\n",
      "Training Loss: 0.7760358286685631\n",
      "Val Loss: 1.6323960034743599 \n",
      "\n",
      "Epoch 11\n",
      "Training Loss: 0.5263956214397982\n",
      "Val Loss: 2.1059668012287305 \n",
      "\n",
      "Epoch 16\n",
      "Training Loss: 0.4196764540151169\n",
      "Val Loss: 2.4759181064108144 \n",
      "\n",
      "Epoch 21\n",
      "Training Loss: 0.3947786551091026\n",
      "Val Loss: 2.22779599480007 \n",
      "\n",
      "Epoch 26\n",
      "Training Loss: 0.2873168060851227\n",
      "Val Loss: 4.226037263870239 \n",
      "\n",
      "Epoch 31\n",
      "Training Loss: 0.2986095196521673\n",
      "Val Loss: 5.566005561662757 \n",
      "\n",
      "Epoch 36\n",
      "Training Loss: 0.2840327623610695\n",
      "Val Loss: 5.043344238530034 \n",
      "\n",
      "Epoch 41\n",
      "Training Loss: 0.24048522828767696\n",
      "Val Loss: 1.9134730878083601 \n",
      "\n",
      "Epoch 46\n",
      "Training Loss: 0.26047046012321456\n",
      "Val Loss: 1.885129197784092 \n",
      "\n",
      "Epoch 50\n",
      "Training Loss: 0.20850688336376366\n",
      "Val Loss: 2.0296003300210703 \n",
      "\n"
     ]
    }
   ],
   "source": [
    "# Train the model\n",
    "best_val_loss = math.inf\n",
    "num_epochs = 50\n",
    "\n",
    "for epoch in range(num_epochs):\n",
    "    tot_train_loss = 0\n",
    "    tot_train_samples = 0\n",
    "    \n",
    "    # Train Loop\n",
    "    model.train()\n",
    "    for i, (label, data, filename) in enumerate(train_loader):\n",
    "        data = data.type(torch.FloatTensor).cuda().unsqueeze(1)\n",
    "        label = label.long().cuda()\n",
    "        \n",
    "        optimizer.zero_grad() # clear gradients\n",
    "        outputs = model(data) # get outputs\n",
    "        train_loss = criterion(outputs, label) # get batch loss\n",
    "        tot_train_loss += train_loss.item() # add batch loss to total loss\n",
    "        tot_train_samples += data.shape[0] # add number of samples to total number of samples\n",
    "        train_loss.backward() # get gradients\n",
    "        optimizer.step() # update parameters\n",
    "    avg_train_loss = tot_train_loss / len(train_loader)\n",
    "    \n",
    "    # Eval Loop\n",
    "    tot_val_loss = 0\n",
    "    tot_val_samples = 0\n",
    "    pred_vec = []\n",
    "    label_vec = []\n",
    "    \n",
    "    model.eval()\n",
    "    for i, (label, data, filename) in enumerate(val_loader):\n",
    "        data = data.type(torch.FloatTensor).cuda().unsqueeze(1)\n",
    "        label = label.long().cuda()\n",
    "        \n",
    "        outputs = model(data) # get outputs\n",
    "        val_loss = criterion(outputs, label) # get batch loss\n",
    "        tot_val_loss += val_loss.item() # add batch loss to total loss\n",
    "        tot_val_samples += data.shape[0] # add number of samples to total number of samples\n",
    "        \n",
    "        # Predictions\n",
    "        #_, predicted = torch.max(outputs.data, 1)\n",
    "        #pred_vec += list(np.array(predicted.cpu()).ravel())\n",
    "        #label_vec += list(np.array(labels.cpu()).ravel())\n",
    "    avg_val_loss = tot_val_loss / len(val_loader)\n",
    "    if avg_val_loss < best_val_loss:\n",
    "        best_val_loss = avg_val_loss\n",
    "        torch.save(model.state_dict(), 'models/audio_net_spect.pt')\n",
    "        \n",
    "    # print losses every 5 epochs\n",
    "    if (epoch + 1) % 5 == 1 or (epoch + 1) == num_epochs:\n",
    "        print('Epoch {}'.format(epoch + 1))\n",
    "        print('Training Loss: {}'.format(avg_train_loss))\n",
    "        print('Val Loss: {} \\n'.format(avg_val_loss))"
   ]
  },
  {
   "cell_type": "code",
   "execution_count": 270,
   "metadata": {},
   "outputs": [],
   "source": [
    "# Evaluate the model on the validation dataset\n",
    "predictions = []\n",
    "gt = []\n",
    "\n",
    "for i, (label, data, filename) in enumerate(test_loader):\n",
    "    data = data.type(torch.FloatTensor).cuda().unsqueeze(1)\n",
    "    label = label.long().cuda()\n",
    "\n",
    "    outputs = model(data) # get outputs\n",
    "    val_loss = criterion(outputs, label) # get batch loss\n",
    "    tot_val_loss += val_loss.item() # add batch loss to total loss\n",
    "    tot_val_samples += data.shape[0] # add number of samples to total number of samples\n",
    "\n",
    "    # Predictions\n",
    "    _, predicted = torch.max(outputs.data, 1)\n",
    "    predictions += list(np.array(predicted.cpu()).ravel())\n",
    "    gt += list(np.array(label.cpu()).ravel())"
   ]
  },
  {
   "cell_type": "code",
   "execution_count": 271,
   "metadata": {},
   "outputs": [
    {
     "name": "stdout",
     "output_type": "stream",
     "text": [
      "              precision    recall  f1-score   support\n",
      "\n",
      "           0       0.94      0.62      0.75        97\n",
      "           1       0.64      0.90      0.75        70\n",
      "           2       0.66      0.71      0.69       100\n",
      "           3       1.00      0.26      0.41        70\n",
      "           4       0.74      0.30      0.42       105\n",
      "           5       0.49      0.84      0.62        99\n",
      "           6       0.93      0.39      0.55        72\n",
      "           7       0.48      0.94      0.64       100\n",
      "           8       0.89      0.44      0.59        18\n",
      "\n",
      "    accuracy                           0.62       731\n",
      "   macro avg       0.75      0.60      0.60       731\n",
      "weighted avg       0.72      0.62      0.60       731\n",
      "\n"
     ]
    }
   ],
   "source": [
    "print(classification_report(gt, predictions))"
   ]
  },
  {
   "cell_type": "code",
   "execution_count": 262,
   "metadata": {},
   "outputs": [
    {
     "data": {
      "text/plain": [
       "(6,\n",
       " tensor([-0.0001, -0.0002, -0.0002,  ..., -0.0460, -0.0462, -0.0509]),\n",
       " 22050,\n",
       " 1,\n",
       " '101415-3-0-2.wav')"
      ]
     },
     "execution_count": 262,
     "metadata": {},
     "output_type": "execute_result"
    }
   ],
   "source": [
    "dataset[0]"
   ]
  },
  {
   "cell_type": "code",
   "execution_count": null,
   "metadata": {},
   "outputs": [],
   "source": []
  },
  {
   "cell_type": "code",
   "execution_count": null,
   "metadata": {},
   "outputs": [],
   "source": []
  },
  {
   "cell_type": "code",
   "execution_count": null,
   "metadata": {},
   "outputs": [],
   "source": []
  },
  {
   "cell_type": "code",
   "execution_count": null,
   "metadata": {},
   "outputs": [],
   "source": []
  },
  {
   "cell_type": "code",
   "execution_count": null,
   "metadata": {},
   "outputs": [],
   "source": []
  },
  {
   "cell_type": "code",
   "execution_count": null,
   "metadata": {},
   "outputs": [],
   "source": []
  },
  {
   "cell_type": "code",
   "execution_count": null,
   "metadata": {},
   "outputs": [],
   "source": []
  },
  {
   "cell_type": "markdown",
   "metadata": {},
   "source": [
    "# Everything below is scratch work"
   ]
  },
  {
   "cell_type": "code",
   "execution_count": 24,
   "metadata": {},
   "outputs": [
    {
     "data": {
      "text/plain": [
       "<matplotlib.image.AxesImage at 0x1bdcbc04408>"
      ]
     },
     "execution_count": 24,
     "metadata": {},
     "output_type": "execute_result"
    },
    {
     "data": {
      "image/png": "[encoded data removed]",
      "text/plain": [
       "<Figure size 432x288 with 1 Axes>"
      ]
     },
     "metadata": {
      "needs_background": "light"
     },
     "output_type": "display_data"
    }
   ],
   "source": [
    "plt.imshow(melspectrogram(trainset[0][1].numpy(), trainset[0][2]))"
   ]
  },
  {
   "cell_type": "code",
   "execution_count": null,
   "metadata": {},
   "outputs": [],
   "source": []
  },
  {
   "cell_type": "code",
   "execution_count": null,
   "metadata": {},
   "outputs": [],
   "source": []
  },
  {
   "cell_type": "code",
   "execution_count": null,
   "metadata": {},
   "outputs": [],
   "source": []
  },
  {
   "cell_type": "code",
   "execution_count": null,
   "metadata": {},
   "outputs": [],
   "source": []
  },
  {
   "cell_type": "code",
   "execution_count": 23,
   "metadata": {},
   "outputs": [
    {
     "data": {
      "text/plain": [
       "(0,\n",
       " tensor([-0.0014,  0.0107,  0.0274,  ...,  0.0314,  0.0308,  0.0305]),\n",
       " 22050,\n",
       " 3,\n",
       " '22601-8-0-16.wav')"
      ]
     },
     "execution_count": 23,
     "metadata": {},
     "output_type": "execute_result"
    }
   ],
   "source": [
    "trainset[0]"
   ]
  },
  {
   "cell_type": "code",
   "execution_count": null,
   "metadata": {},
   "outputs": [],
   "source": [
    "class_set"
   ]
  },
  {
   "cell_type": "code",
   "execution_count": null,
   "metadata": {},
   "outputs": [],
   "source": [
    "class_dict = {}\n",
    "for i, key in enumerate(class_set):\n",
    "    class_dict[key] = i"
   ]
  },
  {
   "cell_type": "code",
   "execution_count": null,
   "metadata": {},
   "outputs": [],
   "source": [
    "class_dict"
   ]
  },
  {
   "cell_type": "code",
   "execution_count": null,
   "metadata": {},
   "outputs": [],
   "source": []
  },
  {
   "cell_type": "code",
   "execution_count": null,
   "metadata": {},
   "outputs": [],
   "source": []
  },
  {
   "cell_type": "code",
   "execution_count": null,
   "metadata": {},
   "outputs": [],
   "source": []
  },
  {
   "cell_type": "code",
   "execution_count": null,
   "metadata": {},
   "outputs": [],
   "source": []
  },
  {
   "cell_type": "code",
   "execution_count": null,
   "metadata": {},
   "outputs": [],
   "source": []
  },
  {
   "cell_type": "code",
   "execution_count": null,
   "metadata": {},
   "outputs": [],
   "source": [
    "test_input = torch.tensor(max_data[1]).type(torch.FloatTensor)\n",
    "model(test_input.unsqueeze(0).unsqueeze(0))"
   ]
  },
  {
   "cell_type": "code",
   "execution_count": null,
   "metadata": {},
   "outputs": [],
   "source": []
  },
  {
   "cell_type": "code",
   "execution_count": null,
   "metadata": {},
   "outputs": [],
   "source": [
    "len(max_data[1])"
   ]
  },
  {
   "cell_type": "code",
   "execution_count": null,
   "metadata": {},
   "outputs": [],
   "source": [
    "_, _, spect = spectrogram(max_data[1])"
   ]
  },
  {
   "cell_type": "code",
   "execution_count": null,
   "metadata": {},
   "outputs": [],
   "source": []
  },
  {
   "cell_type": "code",
   "execution_count": null,
   "metadata": {},
   "outputs": [],
   "source": [
    "class_set = set()\n",
    "for data in spect_dataset:\n",
    "    class_set.add(data[0])\n",
    "print(len(class_set))"
   ]
  },
  {
   "cell_type": "code",
   "execution_count": null,
   "metadata": {},
   "outputs": [],
   "source": [
    "len_array = []\n",
    "for data in spect_dataset:\n",
    "    len_array.append(len(data[1]))"
   ]
  },
  {
   "cell_type": "code",
   "execution_count": null,
   "metadata": {},
   "outputs": [],
   "source": [
    "from collections import Counter\n",
    "countlist = []\n",
    "counter = Counter(len_array)\n",
    "for item in counter:\n",
    "    countlist.append(counter[item])\n",
    "countlist.sort()\n",
    "print(countlist)"
   ]
  },
  {
   "cell_type": "code",
   "execution_count": null,
   "metadata": {},
   "outputs": [],
   "source": [
    "print(counter)"
   ]
  },
  {
   "cell_type": "code",
   "execution_count": null,
   "metadata": {},
   "outputs": [],
   "source": [
    "len(countlist)"
   ]
  },
  {
   "cell_type": "code",
   "execution_count": null,
   "metadata": {},
   "outputs": [],
   "source": [
    "min_len = 999999999999\n",
    "max_len = 0\n",
    "for data in spect_dataset:\n",
    "    if len(data[1]) < min_len:\n",
    "        min_data = data\n",
    "        min_len = len(data[1])\n",
    "    if len(data[1]) > max_len:\n",
    "        max_data = data\n",
    "        max_len = len(data[1])"
   ]
  },
  {
   "cell_type": "code",
   "execution_count": null,
   "metadata": {},
   "outputs": [],
   "source": [
    "max_len"
   ]
  },
  {
   "cell_type": "code",
   "execution_count": null,
   "metadata": {},
   "outputs": [],
   "source": [
    "max_data"
   ]
  },
  {
   "cell_type": "code",
   "execution_count": null,
   "metadata": {},
   "outputs": [],
   "source": [
    "for data in spect_dataset:\n",
    "    if len(data[1]) == 96000:\n",
    "        keepdata = data"
   ]
  },
  {
   "cell_type": "code",
   "execution_count": null,
   "metadata": {},
   "outputs": [],
   "source": [
    "keepdata"
   ]
  },
  {
   "cell_type": "code",
   "execution_count": null,
   "metadata": {},
   "outputs": [],
   "source": [
    "max_data"
   ]
  },
  {
   "cell_type": "code",
   "execution_count": null,
   "metadata": {},
   "outputs": [],
   "source": [
    "mod_data = max_data[1][0:176400]"
   ]
  },
  {
   "cell_type": "code",
   "execution_count": null,
   "metadata": {},
   "outputs": [],
   "source": [
    "sf.write('new_file.wav', max_data[1], max_data[2])"
   ]
  },
  {
   "cell_type": "code",
   "execution_count": null,
   "metadata": {},
   "outputs": [],
   "source": []
  },
  {
   "cell_type": "code",
   "execution_count": null,
   "metadata": {},
   "outputs": [],
   "source": []
  },
  {
   "cell_type": "code",
   "execution_count": null,
   "metadata": {},
   "outputs": [],
   "source": []
  },
  {
   "cell_type": "code",
   "execution_count": null,
   "metadata": {},
   "outputs": [],
   "source": [
    "metadata.loc[metadata['slice_file_name'] == '100032-3-0-0.wav', 'class'].item()"
   ]
  },
  {
   "cell_type": "code",
   "execution_count": null,
   "metadata": {},
   "outputs": [],
   "source": [
    "wav = wavio.read('UrbanSound8K//audio//fold1//103074-7-0-0.wav')"
   ]
  },
  {
   "cell_type": "code",
   "execution_count": null,
   "metadata": {},
   "outputs": [],
   "source": [
    "wav = sf.read('UrbanSound8K//audio//fold1//103074-7-0-0.wav')"
   ]
  },
  {
   "cell_type": "code",
   "execution_count": null,
   "metadata": {},
   "outputs": [],
   "source": [
    "sf.write('new_file.wav', spect_dataset[10][1], spect_dataset[10][2])"
   ]
  },
  {
   "cell_type": "code",
   "execution_count": null,
   "metadata": {},
   "outputs": [],
   "source": [
    "wav = wavfile.read('UrbanSound8K//audio//fold1//102842-3-1-6.wav')"
   ]
  },
  {
   "cell_type": "code",
   "execution_count": null,
   "metadata": {},
   "outputs": [],
   "source": [
    "wav"
   ]
  },
  {
   "cell_type": "code",
   "execution_count": null,
   "metadata": {},
   "outputs": [],
   "source": [
    "spect_dataset[10][2]"
   ]
  },
  {
   "cell_type": "code",
   "execution_count": null,
   "metadata": {},
   "outputs": [],
   "source": []
  }
 ],
 "metadata": {
  "kernelspec": {
   "display_name": "Python [conda env:nlp]",
   "language": "python",
   "name": "conda-env-nlp-py"
  },
  "language_info": {
   "codemirror_mode": {
    "name": "ipython",
    "version": 3
   },
   "file_extension": ".py",
   "mimetype": "text/x-python",
   "name": "python",
   "nbconvert_exporter": "python",
   "pygments_lexer": "ipython3",
   "version": "3.7.9"
  }
 },
 "nbformat": 4,
 "nbformat_minor": 4
}
